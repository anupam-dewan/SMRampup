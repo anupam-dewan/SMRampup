{
 "cells": [
  {
   "cell_type": "markdown",
   "id": "420624a2-d42c-4d72-9bb3-3fb66acfddae",
   "metadata": {},
   "source": [
    "\n",
    "# What you will accomplish\n",
    "\n",
    "In this guide, you will:\n",
    "\n",
    "    - Build, train, and tune a model using script mode\n",
    "    - Detect bias in ML models and understand model predictions\n",
    "    - Deploy the trained model to a real-time inference endpoint for testing\n",
    "    - Evaluate the model by generating sample predictions and understanding feature impact\n",
    "\n"
   ]
  },
  {
   "cell_type": "markdown",
   "id": "2ac9e907-886d-4938-a4c4-324bd8893213",
   "metadata": {
    "tags": []
   },
   "source": [
    "#### Bio: Jane Sassy, Data Scientist\n",
    "#### Location: Bellevue, WA\n",
    "\n",
    "Jane, is a data scientist working on training a binary classier model on insurance claims that predicts if the user could be fraudulent or not. She got the dataset from her companies data source and now ready to begin her ML life cycle.\n",
    "\n",
    "\n",
    "- Jane first uses Studios IDE with some python libraries to explore the dataset and find some key characteristics that she can then use to engineer some features ( Assumption - This task has been completed before hand)\n",
    "\n",
    "- Once she has done that, she decides to train XGboost model and starts training a base line model. Below example shows how to start training some base line models and do some experiemntation with various parameters using `SM Hyperparameter optimization`\n",
    "\n",
    "- Before making the model final, she wants to check if the mode might have underling biased that could cause model to be impartial against certain facets like gender, race etc using ` SM Clarify Bias Reports`\n",
    "\n",
    "- She also realizes that she needs to have an explainability around her model for why did model predict something, what causes model to make certain predictions? using `SM Explainability Reports`\n",
    "\n",
    "- After the bais and explainability checks, she gets ready to deploy the model on a staging env using `SM Endpoints`\n",
    "\n",
    "- She finally do some test inference calls to understand how the model is performing on some new unseen dataset.\n",
    "\n",
    "- Once she is done with her tests she terminates her endpoint, and terminate the apps from her profile.\n",
    "\n",
    "- 6 months later bob sees a deprecation in the performance of the deployed model which leads him in believing that the model might need to go through a re-training procedure. Thanks to `SM pipeline` he can retrain the whole model on a new data just from a click of a button reducing the model retraining cycle as well as increasing the reproducibiltiy of the past experiments.\n",
    "\n"
   ]
  },
  {
   "cell_type": "markdown",
   "id": "bc102566-c6d6-41cd-8e8c-748bb4d3a380",
   "metadata": {
    "tags": []
   },
   "source": [
    "# Step 2: Set up a SageMaker Studio notebook ( library installation & variable settings)"
   ]
  },
  {
   "cell_type": "code",
   "execution_count": 2,
   "id": "126f415a-81cd-4abc-b68b-954a253da387",
   "metadata": {
    "tags": []
   },
   "outputs": [
    {
     "name": "stdout",
     "output_type": "stream",
     "text": [
      "\u001b[33mWARNING: Running pip as the 'root' user can result in broken permissions and conflicting behaviour with the system package manager. It is recommended to use a virtual environment instead: https://pip.pypa.io/warnings/venv\u001b[0m\u001b[33m\n",
      "\u001b[0mNote: you may need to restart the kernel to use updated packages.\n"
     ]
    }
   ],
   "source": [
    "%pip install -q  xgboost==1.3.1 pandas==1.0.5"
   ]
  },
  {
   "cell_type": "code",
   "execution_count": 4,
   "id": "5869a439-c045-4911-8498-3bbb87b606db",
   "metadata": {
    "tags": []
   },
   "outputs": [
    {
     "name": "stdout",
     "output_type": "stream",
     "text": [
      "Requirement already satisfied: boto3 in /opt/conda/lib/python3.7/site-packages (1.26.69)\n",
      "Collecting botocore<1.30.0,>=1.29.69\n",
      "  Downloading botocore-1.29.84-py3-none-any.whl (10.5 MB)\n",
      "\u001b[2K     \u001b[90m━━━━━━━━━━━━━━━━━━━━━━━━━━━━━━━━━━━━━━━━\u001b[0m \u001b[32m10.5/10.5 MB\u001b[0m \u001b[31m44.9 MB/s\u001b[0m eta \u001b[36m0:00:00\u001b[0m00:01\u001b[0m00:01\u001b[0m\n",
      "\u001b[?25hRequirement already satisfied: jmespath<2.0.0,>=0.7.1 in /opt/conda/lib/python3.7/site-packages (from boto3) (1.0.1)\n",
      "Requirement already satisfied: s3transfer<0.7.0,>=0.6.0 in /opt/conda/lib/python3.7/site-packages (from boto3) (0.6.0)\n",
      "Requirement already satisfied: urllib3<1.27,>=1.25.4 in /opt/conda/lib/python3.7/site-packages (from botocore<1.30.0,>=1.29.69->boto3) (1.26.14)\n",
      "Requirement already satisfied: python-dateutil<3.0.0,>=2.1 in /opt/conda/lib/python3.7/site-packages (from botocore<1.30.0,>=1.29.69->boto3) (2.8.2)\n",
      "Requirement already satisfied: six>=1.5 in /opt/conda/lib/python3.7/site-packages (from python-dateutil<3.0.0,>=2.1->botocore<1.30.0,>=1.29.69->boto3) (1.14.0)\n",
      "Installing collected packages: botocore\n",
      "  Attempting uninstall: botocore\n",
      "    Found existing installation: botocore 1.27.59\n",
      "    Uninstalling botocore-1.27.59:\n",
      "      Successfully uninstalled botocore-1.27.59\n",
      "\u001b[31mERROR: pip's dependency resolver does not currently take into account all the packages that are installed. This behaviour is the source of the following dependency conflicts.\n",
      "awscli 1.27.69 requires botocore==1.29.69, but you have botocore 1.29.84 which is incompatible.\n",
      "awscli 1.27.69 requires PyYAML<5.5,>=3.10, but you have pyyaml 6.0 which is incompatible.\n",
      "awscli 1.27.69 requires rsa<4.8,>=3.1.2, but you have rsa 4.9 which is incompatible.\n",
      "aiobotocore 2.4.2 requires botocore<1.27.60,>=1.27.59, but you have botocore 1.29.84 which is incompatible.\u001b[0m\u001b[31m\n",
      "\u001b[0mSuccessfully installed botocore-1.29.84\n",
      "\u001b[33mWARNING: Running pip as the 'root' user can result in broken permissions and conflicting behaviour with the system package manager. It is recommended to use a virtual environment instead: https://pip.pypa.io/warnings/venv\u001b[0m\u001b[33m\n",
      "\u001b[0mNote: you may need to restart the kernel to use updated packages.\n"
     ]
    }
   ],
   "source": [
    "%pip install boto3"
   ]
  },
  {
   "cell_type": "code",
   "execution_count": 5,
   "id": "9ccff1a8-3213-4a49-a738-f9af5909338c",
   "metadata": {
    "tags": []
   },
   "outputs": [],
   "source": [
    "import pandas as pd\n",
    "import boto3\n",
    "import sagemaker\n",
    "import json\n",
    "import joblib\n",
    "from sagemaker.xgboost.estimator import XGBoost\n",
    "from sagemaker.tuner import (\n",
    "    IntegerParameter,\n",
    "    ContinuousParameter,\n",
    "    HyperparameterTuner\n",
    ")\n",
    "from sagemaker.inputs import TrainingInput\n",
    "from sagemaker.image_uris import retrieve\n",
    "from sagemaker.serializers import CSVSerializer\n",
    "from sagemaker.deserializers import CSVDeserializer\n",
    "\n",
    "# Setting SageMaker variables\n",
    "sess = sagemaker.Session()\n",
    "write_bucket = sess.default_bucket()\n",
    "write_prefix = \"fraud-detect-demo\"\n",
    "\n",
    "region = sess.boto_region_name\n",
    "s3_client = boto3.client(\"s3\", region_name=region)\n",
    "\n",
    "sagemaker_role = sagemaker.get_execution_role()\n",
    "sagemaker_client = boto3.client(\"sagemaker\")\n",
    "read_bucket = \"sagemaker-sample-files\"\n",
    "read_prefix = \"datasets/tabular/synthetic_automobile_claims\" \n",
    "\n",
    "\n",
    "# Setting S3 location for read and write operations\n",
    "train_data_key = f\"{read_prefix}/train.csv\"\n",
    "test_data_key = f\"{read_prefix}/test.csv\"\n",
    "validation_data_key = f\"{read_prefix}/validation.csv\"\n",
    "model_key = f\"{write_prefix}/model\"\n",
    "output_key = f\"{write_prefix}/output\"\n",
    "\n",
    "\n",
    "train_data_uri = f\"s3://{read_bucket}/{train_data_key}\"\n",
    "test_data_uri = f\"s3://{read_bucket}/{test_data_key}\"\n",
    "validation_data_uri = f\"s3://{read_bucket}/{validation_data_key}\"\n",
    "model_uri = f\"s3://{write_bucket}/{model_key}\"\n",
    "output_uri = f\"s3://{write_bucket}/{output_key}\"\n",
    "estimator_output_uri = f\"s3://{write_bucket}/{write_prefix}/training_jobs\"\n",
    "bias_report_output_uri = f\"s3://{write_bucket}/{write_prefix}/clarify-output/bias\"\n",
    "explainability_report_output_uri = f\"s3://{write_bucket}/{write_prefix}/clarify-output/explainability\""
   ]
  },
  {
   "cell_type": "code",
   "execution_count": 6,
   "id": "c29c0e43-1163-4ea7-ba3b-196312f73fde",
   "metadata": {
    "tags": []
   },
   "outputs": [],
   "source": [
    "tuning_job_name_prefix = \"xgbtune\" \n",
    "training_job_name_prefix = \"xgbtrain\"\n",
    "\n",
    "xgb_model_name = \"fraud-detect-xgb-model\"\n",
    "endpoint_name_prefix = \"xgb-fraud-model-dev\"\n",
    "train_instance_count = 1\n",
    "train_instance_type = \"ml.m4.xlarge\"\n",
    "predictor_instance_count = 1\n",
    "predictor_instance_type = \"ml.m4.xlarge\"\n",
    "clarify_instance_count = 1\n",
    "clarify_instance_type = \"ml.m4.xlarge\""
   ]
  },
  {
   "cell_type": "markdown",
   "id": "b9375f72-3008-47d5-af62-b80d4d6374b6",
   "metadata": {
    "tags": []
   },
   "source": [
    "# Step 3: Launch hyperparameter tuning jobs in script mode using SageMaker Hyperparameter tuning jobs\n"
   ]
  },
  {
   "cell_type": "code",
   "execution_count": 7,
   "id": "cdea362a-dc18-42ea-861f-65794e91652e",
   "metadata": {
    "tags": []
   },
   "outputs": [
    {
     "name": "stdout",
     "output_type": "stream",
     "text": [
      "Overwriting xgboost_train.py\n"
     ]
    }
   ],
   "source": [
    "%%writefile xgboost_train.py\n",
    "\n",
    "import argparse\n",
    "import os\n",
    "import joblib\n",
    "import json\n",
    "import pandas as pd\n",
    "import xgboost as xgb\n",
    "from sklearn.metrics import roc_auc_score\n",
    "\n",
    "if __name__ == \"__main__\":\n",
    "    parser = argparse.ArgumentParser()\n",
    "\n",
    "    # Hyperparameters and algorithm parameters are described here\n",
    "    parser.add_argument(\"--num_round\", type=int, default=100)\n",
    "    parser.add_argument(\"--max_depth\", type=int, default=3)\n",
    "    parser.add_argument(\"--eta\", type=float, default=0.2)\n",
    "    parser.add_argument(\"--subsample\", type=float, default=0.9)\n",
    "    parser.add_argument(\"--colsample_bytree\", type=float, default=0.8)\n",
    "    parser.add_argument(\"--objective\", type=str, default=\"binary:logistic\")\n",
    "    parser.add_argument(\"--eval_metric\", type=str, default=\"auc\")\n",
    "    parser.add_argument(\"--nfold\", type=int, default=3)\n",
    "    parser.add_argument(\"--early_stopping_rounds\", type=int, default=3)\n",
    "    \n",
    "\n",
    "    # SageMaker specific arguments. Defaults are set in the environment variables\n",
    "    # Location of input training data\n",
    "    parser.add_argument(\"--train_data_dir\", type=str, default=os.environ.get(\"SM_CHANNEL_TRAIN\"))\n",
    "    # Location of input validation data\n",
    "    parser.add_argument(\"--validation_data_dir\", type=str, default=os.environ.get(\"SM_CHANNEL_VALIDATION\"))\n",
    "    # Location where trained model will be stored. Default set by SageMaker, /opt/ml/model\n",
    "    parser.add_argument(\"--model_dir\", type=str, default=os.environ.get(\"SM_MODEL_DIR\"))\n",
    "    # Location where model artifacts will be stored. Default set by SageMaker, /opt/ml/output/data\n",
    "    parser.add_argument(\"--output_data_dir\", type=str, default=os.environ.get(\"SM_OUTPUT_DATA_DIR\"))\n",
    "    \n",
    "    args = parser.parse_args()\n",
    "\n",
    "    data_train = pd.read_csv(f\"{args.train_data_dir}/train.csv\")\n",
    "    train = data_train.drop(\"fraud\", axis=1)\n",
    "    label_train = pd.DataFrame(data_train[\"fraud\"])\n",
    "    dtrain = xgb.DMatrix(train, label=label_train)\n",
    "    \n",
    "    \n",
    "    data_validation = pd.read_csv(f\"{args.validation_data_dir}/validation.csv\")\n",
    "    validation = data_validation.drop(\"fraud\", axis=1)\n",
    "    label_validation = pd.DataFrame(data_validation[\"fraud\"])\n",
    "    dvalidation = xgb.DMatrix(validation, label=label_validation)\n",
    "\n",
    "    params = {\"max_depth\": args.max_depth,\n",
    "              \"eta\": args.eta,\n",
    "              \"objective\": args.objective,\n",
    "              \"subsample\" : args.subsample,\n",
    "              \"colsample_bytree\":args.colsample_bytree\n",
    "             }\n",
    "    \n",
    "    num_boost_round = args.num_round\n",
    "    nfold = args.nfold\n",
    "    early_stopping_rounds = args.early_stopping_rounds\n",
    "    \n",
    "    cv_results = xgb.cv(\n",
    "        params=params,\n",
    "        dtrain=dtrain,\n",
    "        num_boost_round=num_boost_round,\n",
    "        nfold=nfold,\n",
    "        early_stopping_rounds=early_stopping_rounds,\n",
    "        metrics=[\"auc\"],\n",
    "        seed=42,\n",
    "    )\n",
    "    \n",
    "    model = xgb.train(params=params, dtrain=dtrain, num_boost_round=len(cv_results))\n",
    "    \n",
    "    train_pred = model.predict(dtrain)\n",
    "    validation_pred = model.predict(dvalidation)\n",
    "    \n",
    "    train_auc = roc_auc_score(label_train, train_pred)\n",
    "    validation_auc = roc_auc_score(label_validation, validation_pred)\n",
    "    \n",
    "    print(f\"[0]#011train-auc:{train_auc:.2f}\")\n",
    "    print(f\"[0]#011validation-auc:{validation_auc:.2f}\")\n",
    "\n",
    "    metrics_data = {\"hyperparameters\" : params,\n",
    "                    \"binary_classification_metrics\": {\"validation:auc\": {\"value\": validation_auc},\n",
    "                                                      \"train:auc\": {\"value\": train_auc}\n",
    "                                                     }\n",
    "                   }\n",
    "              \n",
    "    # Save the evaluation metrics to the location specified by output_data_dir\n",
    "    metrics_location = args.output_data_dir + \"/metrics.json\"\n",
    "    \n",
    "    # Save the model to the location specified by model_dir\n",
    "    model_location = args.model_dir + \"/xgboost-model\"\n",
    "\n",
    "    with open(metrics_location, \"w\") as f:\n",
    "        json.dump(metrics_data, f)\n",
    "\n",
    "    with open(model_location, \"wb\") as f:\n",
    "        joblib.dump(model, f)"
   ]
  },
  {
   "cell_type": "code",
   "execution_count": 8,
   "id": "c567424c-2b68-4809-bb58-2d34981b232f",
   "metadata": {
    "tags": []
   },
   "outputs": [],
   "source": [
    "# SageMaker estimator\n",
    "\n",
    "# Set static hyperparameters that will not be tuned\n",
    "static_hyperparams = {  \n",
    "                        \"eval_metric\" : \"auc\",\n",
    "                        \"objective\": \"binary:logistic\",\n",
    "                        \"num_round\": \"5\"\n",
    "                      }\n",
    "\n",
    "xgb_estimator = XGBoost(\n",
    "                        entry_point=\"xgboost_train.py\",\n",
    "                        output_path=estimator_output_uri,\n",
    "                        code_location=estimator_output_uri,\n",
    "                        hyperparameters=static_hyperparams,\n",
    "                        role=sagemaker_role,\n",
    "                        instance_count=train_instance_count,\n",
    "                        instance_type=train_instance_type,\n",
    "                        framework_version=\"1.3-1\",\n",
    "                        base_job_name=training_job_name_prefix\n",
    "                    )"
   ]
  },
  {
   "cell_type": "code",
   "execution_count": 9,
   "id": "a713aa8d-a89f-428b-9f46-27d2ffcb5523",
   "metadata": {
    "tags": []
   },
   "outputs": [],
   "source": [
    "# Setting ranges of hyperparameters to be tuned\n",
    "hyperparameter_ranges = {\n",
    "    \"eta\": ContinuousParameter(0, 1),\n",
    "    \"subsample\": ContinuousParameter(0.7, 0.95),\n",
    "    \"colsample_bytree\": ContinuousParameter(0.7, 0.95),\n",
    "    \"max_depth\": IntegerParameter(1, 5)\n",
    "}"
   ]
  },
  {
   "cell_type": "code",
   "execution_count": 10,
   "id": "1784f057-3bad-42ac-840c-8fbb6cd909a9",
   "metadata": {
    "tags": []
   },
   "outputs": [],
   "source": [
    "objective_metric_name = \"validation:auc\"\n",
    "\n",
    "# Setting up tuner object\n",
    "tuner_config_dict = {\n",
    "                     \"estimator\" : xgb_estimator,\n",
    "                     \"max_jobs\" : 5,\n",
    "                     \"max_parallel_jobs\" : 2,\n",
    "                     \"objective_metric_name\" : objective_metric_name,\n",
    "                     \"hyperparameter_ranges\" : hyperparameter_ranges,\n",
    "                     \"base_tuning_job_name\" : tuning_job_name_prefix,\n",
    "                     \"strategy\" : \"Random\"\n",
    "                    }\n",
    "tuner = HyperparameterTuner(**tuner_config_dict)"
   ]
  },
  {
   "cell_type": "code",
   "execution_count": 46,
   "id": "496f2dea-0166-4392-a49b-a35885a312c8",
   "metadata": {
    "tags": []
   },
   "outputs": [
    {
     "name": "stdout",
     "output_type": "stream",
     "text": [
      "copy: s3://sagemaker-sample-files/datasets/tabular/synthetic_automobile_claims/train.csv to s3://sagemaker-us-east-1-539179515961//synthetic_automobile_claims/train.csv\n"
     ]
    }
   ],
   "source": [
    "! aws s3 cp s3://sagemaker-sample-files/datasets/tabular/synthetic_automobile_claims/train.csv  s3://sagemaker-us-east-1-539179515961//synthetic_automobile_claims/train.csv"
   ]
  },
  {
   "cell_type": "code",
   "execution_count": 45,
   "id": "e5e84532-0f5f-4384-90b4-44bc57e4a81d",
   "metadata": {
    "tags": []
   },
   "outputs": [
    {
     "data": {
      "text/plain": [
       "'s3://sagemaker-sample-files/datasets/tabular/synthetic_automobile_claims/train.csv'"
      ]
     },
     "execution_count": 45,
     "metadata": {},
     "output_type": "execute_result"
    }
   ],
   "source": [
    "\"s3://{}/{}\".format(read_bucket, train_data_key)"
   ]
  },
  {
   "cell_type": "markdown",
   "id": "a53f2805-dfac-4b91-bb06-6bac8446417e",
   "metadata": {},
   "source": [
    "#### [Note 1]: Below cell ⬇️ will take about 7 mins to run as it tries to tune multiple parameters ( each dot indicates running state and ! indicates completion of the job)"
   ]
  },
  {
   "cell_type": "markdown",
   "id": "3194ad84-d2b9-4f5f-a012-eac402fc889c",
   "metadata": {},
   "source": [
    "#### [Note 2] You can head over to Sagemaker Console -> Hyperparameter tuning jobs to view the progress of the launched tuning jobs"
   ]
  },
  {
   "cell_type": "code",
   "execution_count": 11,
   "id": "e35ecbf5-4b6c-45fb-b52c-b5a2a0330752",
   "metadata": {
    "tags": []
   },
   "outputs": [
    {
     "name": "stderr",
     "output_type": "stream",
     "text": [
      "No finished training job found associated with this estimator. Please make sure this estimator is only used for building workflow config\n"
     ]
    },
    {
     "name": "stdout",
     "output_type": "stream",
     "text": [
      "...........................................................!\n",
      "!\n"
     ]
    }
   ],
   "source": [
    "# Setting the input channels for tuning job\n",
    "s3_input_train = TrainingInput(s3_data=\"s3://{}/{}\".format(read_bucket, train_data_key), content_type=\"csv\", s3_data_type=\"S3Prefix\")\n",
    "s3_input_validation = (TrainingInput(s3_data=\"s3://{}/{}\".format(read_bucket, validation_data_key), \n",
    "                                    content_type=\"csv\", s3_data_type=\"S3Prefix\")\n",
    "                      )\n",
    "\n",
    "tuner.fit(inputs={\"train\": s3_input_train, \"validation\": s3_input_validation}, include_cls_metadata=False)\n",
    "tuner.wait()"
   ]
  },
  {
   "cell_type": "code",
   "execution_count": 12,
   "id": "a875407c-466f-4cf1-b115-0fd0426ecc83",
   "metadata": {
    "tags": []
   },
   "outputs": [
    {
     "data": {
      "text/html": [
       "<div>\n",
       "<style scoped>\n",
       "    .dataframe tbody tr th:only-of-type {\n",
       "        vertical-align: middle;\n",
       "    }\n",
       "\n",
       "    .dataframe tbody tr th {\n",
       "        vertical-align: top;\n",
       "    }\n",
       "\n",
       "    .dataframe thead th {\n",
       "        text-align: right;\n",
       "    }\n",
       "</style>\n",
       "<table border=\"1\" class=\"dataframe\">\n",
       "  <thead>\n",
       "    <tr style=\"text-align: right;\">\n",
       "      <th></th>\n",
       "      <th>colsample_bytree</th>\n",
       "      <th>eta</th>\n",
       "      <th>max_depth</th>\n",
       "      <th>subsample</th>\n",
       "      <th>TrainingJobName</th>\n",
       "      <th>TrainingJobStatus</th>\n",
       "      <th>FinalObjectiveValue</th>\n",
       "      <th>TrainingStartTime</th>\n",
       "      <th>TrainingEndTime</th>\n",
       "      <th>TrainingElapsedTimeSeconds</th>\n",
       "    </tr>\n",
       "  </thead>\n",
       "  <tbody>\n",
       "    <tr>\n",
       "      <th>0</th>\n",
       "      <td>0.879236</td>\n",
       "      <td>0.077760</td>\n",
       "      <td>3.0</td>\n",
       "      <td>0.844381</td>\n",
       "      <td>xgbtune-230305-2121-005-a6359e56</td>\n",
       "      <td>Completed</td>\n",
       "      <td>0.69</td>\n",
       "      <td>2023-03-05 21:25:23+00:00</td>\n",
       "      <td>2023-03-05 21:26:01+00:00</td>\n",
       "      <td>38.0</td>\n",
       "    </tr>\n",
       "    <tr>\n",
       "      <th>4</th>\n",
       "      <td>0.765214</td>\n",
       "      <td>0.812848</td>\n",
       "      <td>4.0</td>\n",
       "      <td>0.856140</td>\n",
       "      <td>xgbtune-230305-2121-001-0c270f82</td>\n",
       "      <td>Completed</td>\n",
       "      <td>0.68</td>\n",
       "      <td>2023-03-05 21:22:35+00:00</td>\n",
       "      <td>2023-03-05 21:24:13+00:00</td>\n",
       "      <td>98.0</td>\n",
       "    </tr>\n",
       "    <tr>\n",
       "      <th>1</th>\n",
       "      <td>0.832288</td>\n",
       "      <td>0.412008</td>\n",
       "      <td>2.0</td>\n",
       "      <td>0.824303</td>\n",
       "      <td>xgbtune-230305-2121-004-bb3be393</td>\n",
       "      <td>Completed</td>\n",
       "      <td>0.67</td>\n",
       "      <td>2023-03-05 21:24:43+00:00</td>\n",
       "      <td>2023-03-05 21:25:15+00:00</td>\n",
       "      <td>32.0</td>\n",
       "    </tr>\n",
       "    <tr>\n",
       "      <th>3</th>\n",
       "      <td>0.865447</td>\n",
       "      <td>0.457186</td>\n",
       "      <td>1.0</td>\n",
       "      <td>0.902524</td>\n",
       "      <td>xgbtune-230305-2121-002-a3df569b</td>\n",
       "      <td>Completed</td>\n",
       "      <td>0.62</td>\n",
       "      <td>2023-03-05 21:22:41+00:00</td>\n",
       "      <td>2023-03-05 21:24:19+00:00</td>\n",
       "      <td>98.0</td>\n",
       "    </tr>\n",
       "    <tr>\n",
       "      <th>2</th>\n",
       "      <td>0.762691</td>\n",
       "      <td>0.111771</td>\n",
       "      <td>1.0</td>\n",
       "      <td>0.784966</td>\n",
       "      <td>xgbtune-230305-2121-003-e97d0dd1</td>\n",
       "      <td>Completed</td>\n",
       "      <td>0.56</td>\n",
       "      <td>2023-03-05 21:24:36+00:00</td>\n",
       "      <td>2023-03-05 21:25:13+00:00</td>\n",
       "      <td>37.0</td>\n",
       "    </tr>\n",
       "  </tbody>\n",
       "</table>\n",
       "</div>"
      ],
      "text/plain": [
       "   colsample_bytree       eta  max_depth  subsample  \\\n",
       "0          0.879236  0.077760        3.0   0.844381   \n",
       "4          0.765214  0.812848        4.0   0.856140   \n",
       "1          0.832288  0.412008        2.0   0.824303   \n",
       "3          0.865447  0.457186        1.0   0.902524   \n",
       "2          0.762691  0.111771        1.0   0.784966   \n",
       "\n",
       "                    TrainingJobName TrainingJobStatus  FinalObjectiveValue  \\\n",
       "0  xgbtune-230305-2121-005-a6359e56         Completed                 0.69   \n",
       "4  xgbtune-230305-2121-001-0c270f82         Completed                 0.68   \n",
       "1  xgbtune-230305-2121-004-bb3be393         Completed                 0.67   \n",
       "3  xgbtune-230305-2121-002-a3df569b         Completed                 0.62   \n",
       "2  xgbtune-230305-2121-003-e97d0dd1         Completed                 0.56   \n",
       "\n",
       "          TrainingStartTime           TrainingEndTime  \\\n",
       "0 2023-03-05 21:25:23+00:00 2023-03-05 21:26:01+00:00   \n",
       "4 2023-03-05 21:22:35+00:00 2023-03-05 21:24:13+00:00   \n",
       "1 2023-03-05 21:24:43+00:00 2023-03-05 21:25:15+00:00   \n",
       "3 2023-03-05 21:22:41+00:00 2023-03-05 21:24:19+00:00   \n",
       "2 2023-03-05 21:24:36+00:00 2023-03-05 21:25:13+00:00   \n",
       "\n",
       "   TrainingElapsedTimeSeconds  \n",
       "0                        38.0  \n",
       "4                        98.0  \n",
       "1                        32.0  \n",
       "3                        98.0  \n",
       "2                        37.0  "
      ]
     },
     "execution_count": 12,
     "metadata": {},
     "output_type": "execute_result"
    }
   ],
   "source": [
    "# Summary of tuning results ordered in descending order of performance\n",
    "df_tuner = sagemaker.HyperparameterTuningJobAnalytics(tuner.latest_tuning_job.job_name).dataframe()\n",
    "df_tuner = df_tuner[df_tuner[\"FinalObjectiveValue\"]>-float('inf')].sort_values(\"FinalObjectiveValue\", ascending=False)\n",
    "df_tuner"
   ]
  },
  {
   "cell_type": "markdown",
   "id": "4ac9162f-00ad-4b12-8717-20efc3926f01",
   "metadata": {},
   "source": [
    "### UI to Check: 📺\n",
    "    - Experiments -> Hyperparameter Tuning Job / SM Hyperparameter Training Console"
   ]
  },
  {
   "cell_type": "markdown",
   "id": "4a89d44d-1681-4325-8f6c-38ad942601d6",
   "metadata": {
    "tags": []
   },
   "source": [
    "\n",
    "# Step 4: Check model for biases and explain model predictions using SageMaker Clarify\n"
   ]
  },
  {
   "cell_type": "code",
   "execution_count": 13,
   "id": "b01a1211-a886-4161-a442-b1e2e15fa001",
   "metadata": {
    "tags": []
   },
   "outputs": [
    {
     "name": "stdout",
     "output_type": "stream",
     "text": [
      "Model fraud-detect-xgb-model already exists.\n"
     ]
    }
   ],
   "source": [
    "tuner_job_info = sagemaker_client.describe_hyper_parameter_tuning_job(HyperParameterTuningJobName=tuner.latest_tuning_job.job_name)\n",
    "\n",
    "model_matches = sagemaker_client.list_models(NameContains=xgb_model_name)[\"Models\"]\n",
    "\n",
    "if not model_matches:\n",
    "    _ = sess.create_model_from_job(\n",
    "            name=xgb_model_name,\n",
    "            training_job_name=tuner_job_info['BestTrainingJob'][\"TrainingJobName\"],\n",
    "            role=sagemaker_role,\n",
    "            image_uri=tuner_job_info['TrainingJobDefinition'][\"AlgorithmSpecification\"][\"TrainingImage\"]\n",
    "            )\n",
    "else:\n",
    "\n",
    "    print(f\"Model {xgb_model_name} already exists.\")"
   ]
  },
  {
   "cell_type": "markdown",
   "id": "3a748627-bc84-454f-bf78-dedb9f92e6c3",
   "metadata": {},
   "source": [
    "#### SM Clarify tries to detect if the data is statistically biased against females by checking if the target is skewed towards a value based on the customer gender"
   ]
  },
  {
   "cell_type": "markdown",
   "id": "57eea8cf-d70f-4056-9696-46693b296755",
   "metadata": {},
   "source": [
    "#### Next, configure the input dataset(`bias_data_config`), where to store the output(`s3_output_path`), the label column(`fraud`) targeted with a DataConfig object, specify information about your trained model with ModelConfig(`model_config`), and provide information about the formats of your predictions with ModelPredictedLabelConfig`predictions_config`). \n",
    "\n",
    "#### Bias config - Use `BiasConfig` to provide information on which columns contain the  facets (`sensitive groups, customer_gender_female`), what the sensitive features (`facet_values_or_threshold`) might be, and what the desirable outcomes are (`label_values_or_threshold`). "
   ]
  },
  {
   "cell_type": "markdown",
   "id": "39bcb37e-6dc4-4561-ae2e-0ff5a0e12203",
   "metadata": {},
   "source": [
    "[Note 1]: ETA:  This code takes approximately 12 minutes to complete.\n",
    "\n",
    "[Note 2]: You can head over to Sagemaker Console -> Processing jobs to view the progress of the launched tuning jobs"
   ]
  },
  {
   "cell_type": "code",
   "execution_count": 15,
   "id": "666135a4-71a0-4d2f-855c-de8f0197a8f6",
   "metadata": {
    "tags": []
   },
   "outputs": [
    {
     "name": "stderr",
     "output_type": "stream",
     "text": [
      "INFO:sagemaker.image_uris:Defaulting to the only supported framework/algorithm version: 1.0.\n",
      "INFO:sagemaker.image_uris:Ignoring unnecessary instance type: None.\n",
      "INFO:sagemaker.clarify:Analysis Config: {'dataset_type': 'text/csv', 'headers': ['fraud', 'num_vehicles_involved', 'num_injuries', 'num_witnesses', 'police_report_available', 'injury_claim', 'vehicle_claim', 'total_claim_amount', 'incident_month', 'incident_day', 'incident_dow', 'incident_hour', 'customer_age', 'months_as_customer', 'num_claims_past_year', 'num_insurers_past_5_years', 'policy_deductable', 'policy_annual_premium', 'policy_liability', 'customer_education', 'auto_year', 'driver_relationship_other', 'driver_relationship_child', 'driver_relationship_spouse', 'driver_relationship_na', 'driver_relationship_self', 'incident_type_collision', 'incident_type_break-in', 'incident_type_theft', 'collision_type_rear', 'collision_type_side', 'collision_type_na', 'collision_type_front', 'incident_severity_totaled', 'incident_severity_major', 'incident_severity_minor', 'authorities_contacted_fire', 'authorities_contacted_none', 'authorities_contacted_police', 'authorities_contacted_ambulance', 'policy_state_ca', 'policy_state_az', 'policy_state_nv', 'policy_state_id', 'policy_state_wa', 'policy_state_or', 'customer_gender_other', 'customer_gender_male', 'customer_gender_female'], 'label': 'fraud', 'label_values_or_threshold': [0], 'facet': [{'name_or_index': 'customer_gender_female', 'value_or_threshold': [1]}], 'methods': {'report': {'name': 'report', 'title': 'Analysis Report'}, 'pre_training_bias': {'methods': ['CI']}, 'post_training_bias': {'methods': ['DPPL']}}, 'predictor': {'model_name': 'fraud-detect-xgb-model', 'instance_type': 'ml.m4.xlarge', 'initial_instance_count': 1, 'accept_type': 'text/csv'}, 'probability_threshold': 0.5}\n",
      "INFO:sagemaker:Creating processing-job with name Clarify-Bias-2023-03-05-21-45-25-253\n"
     ]
    },
    {
     "name": "stdout",
     "output_type": "stream",
     "text": [
      ".........................................\u001b[34m2023-03-05 21:52:02,763 logging.conf not found when configuring logging, using default logging configuration.\u001b[0m\n",
      "\u001b[34m2023-03-05 21:52:02,764 Starting SageMaker Clarify Processing job\u001b[0m\n",
      "\u001b[34m2023-03-05 21:52:02,764 Analysis config path: /opt/ml/processing/input/config/analysis_config.json\u001b[0m\n",
      "\u001b[34m2023-03-05 21:52:02,764 Analysis result path: /opt/ml/processing/output\u001b[0m\n",
      "\u001b[34m2023-03-05 21:52:02,764 This host is algo-1.\u001b[0m\n",
      "\u001b[34m2023-03-05 21:52:02,764 This host is the leader.\u001b[0m\n",
      "\u001b[34m2023-03-05 21:52:02,764 Number of hosts in the cluster is 1.\u001b[0m\n",
      "\u001b[34m2023-03-05 21:52:03,007 Running Python / Pandas based analyzer.\u001b[0m\n",
      "\u001b[34m2023-03-05 21:52:03,007 Dataset type: text/csv uri: /opt/ml/processing/input/data\u001b[0m\n",
      "\u001b[34m2023-03-05 21:52:03,020 Loading dataset...\u001b[0m\n",
      "\u001b[34m/usr/local/lib/python3.9/site-packages/analyzer/data_loading/csv_data_loader.py:323: FutureWarning: The frame.append method is deprecated and will be removed from pandas in a future version. Use pandas.concat instead.\n",
      "  df = df.append(df_tmp, ignore_index=True)\u001b[0m\n",
      "\u001b[34m2023-03-05 21:52:03,047 Loaded dataset. Dataset info:\u001b[0m\n",
      "\u001b[34m<class 'pandas.core.frame.DataFrame'>\u001b[0m\n",
      "\u001b[34mRangeIndex: 4009 entries, 0 to 4008\u001b[0m\n",
      "\u001b[34mData columns (total 48 columns):\n",
      " #   Column                           Non-Null Count  Dtype  \u001b[0m\n",
      "\u001b[34m---  ------                           --------------  -----  \n",
      " 0   num_vehicles_involved            4009 non-null   int64  \n",
      " 1   num_injuries                     4009 non-null   int64  \n",
      " 2   num_witnesses                    4009 non-null   int64  \n",
      " 3   police_report_available          4009 non-null   int64  \n",
      " 4   injury_claim                     4009 non-null   int64  \n",
      " 5   vehicle_claim                    4009 non-null   float64\n",
      " 6   total_claim_amount               4009 non-null   float64\n",
      " 7   incident_month                   4009 non-null   int64  \n",
      " 8   incident_day                     4009 non-null   int64  \n",
      " 9   incident_dow                     4009 non-null   int64  \n",
      " 10  incident_hour                    4009 non-null   int64  \n",
      " 11  customer_age                     4009 non-null   int64  \n",
      " 12  months_as_customer               4009 non-null   int64  \n",
      " 13  num_claims_past_year             4009 non-null   int64  \n",
      " 14  num_insurers_past_5_years        4009 non-null   int64  \n",
      " 15  policy_deductable                4009 non-null   int64  \n",
      " 16  policy_annual_premium            4009 non-null   int64  \n",
      " 17  policy_liability                 4009 non-null   int64  \n",
      " 18  customer_education               4009 non-null   int64  \n",
      " 19  auto_year                        4009 non-null   int64  \n",
      " 20  driver_relationship_other        4009 non-null   int64  \n",
      " 21  driver_relationship_child        4009 non-null   int64  \n",
      " 22  driver_relationship_spouse       4009 non-null   int64  \n",
      " 23  driver_relationship_na           4009 non-null   int64  \n",
      " 24  driver_relationship_self         4009 non-null   int64  \n",
      " 25  incident_type_collision          4009 non-null   int64  \n",
      " 26  incident_type_break-in           4009 non-null   int64  \n",
      " 27  incident_type_theft              4009 non-null   int64  \n",
      " 28  collision_type_rear              4009 non-null   int64  \n",
      " 29  collision_type_side              4009 non-null   int64  \n",
      " 30  collision_type_na                4009 non-null   int64  \n",
      " 31  collision_type_front             4009 non-null   int64  \n",
      " 32  incident_severity_totaled        4009 non-null   int64  \n",
      " 33  incident_severity_major          4009 non-null   int64  \n",
      " 34  incident_severity_minor          4009 non-null   int64  \n",
      " 35  authorities_contacted_fire       4009 non-null   int64  \n",
      " 36  authorities_contacted_none       4009 non-null   int64  \n",
      " 37  authorities_contacted_police     4009 non-null   int64  \n",
      " 38  authorities_contacted_ambulance  4009 non-null   int64  \n",
      " 39  policy_state_ca                  4009 non-null   int64  \n",
      " 40  policy_state_az                  4009 non-null   int64  \n",
      " 41  policy_state_nv                  4009 non-null   int64  \n",
      " 42  policy_state_id                  4009 non-null   int64  \n",
      " 43  policy_state_wa                  4009 non-null   int64  \n",
      " 44  policy_state_or                  4009 non-null   int64  \n",
      " 45  customer_gender_other            4009 non-null   int64  \n",
      " 46  customer_gender_male             4009 non-null   int64  \n",
      " 47  customer_gender_female           4009 non-null   int64  \u001b[0m\n",
      "\u001b[34mdtypes: float64(2), int64(46)\u001b[0m\n",
      "\u001b[34mmemory usage: 1.5 MB\u001b[0m\n",
      "\u001b[34m2023-03-05 21:52:03,111 Spinning up shadow endpoint\u001b[0m\n",
      "\u001b[34m2023-03-05 21:52:03,111 Creating endpoint-config with name sm-clarify-config-1678053123-ee17\u001b[0m\n",
      "\u001b[34m2023-03-05 21:52:03,511 Creating endpoint: 'sm-clarify-fraud-detect-xgb-model-1678053123-5bf9'\u001b[0m\n",
      "\u001b[34m2023-03-05 21:52:04,150 Using endpoint name: sm-clarify-fraud-detect-xgb-model-1678053123-5bf9\u001b[0m\n",
      "\u001b[34m2023-03-05 21:52:04,150 Waiting for endpoint ...\u001b[0m\n",
      "\u001b[34m2023-03-05 21:52:04,150 Checking endpoint status:\u001b[0m\n",
      "\u001b[34mLegend:\u001b[0m\n",
      "\u001b[34m(OutOfService: x, Creating: -, Updating: -, InService: !, RollingBack: <, Deleting: o, Failed: *)\u001b[0m\n",
      "\u001b[34m2023-03-05 21:56:04,832 Endpoint is in service after 241 seconds\u001b[0m\n",
      "\u001b[34m2023-03-05 21:56:04,833 Endpoint ready.\u001b[0m\n",
      "\u001b[34m2023-03-05 21:56:04,833 ======================================\u001b[0m\n",
      "\u001b[34m2023-03-05 21:56:04,833 Calculating post-training bias metrics\u001b[0m\n",
      "\u001b[34m2023-03-05 21:56:04,833 ======================================\u001b[0m\n",
      "\u001b[34m2023-03-05 21:56:04,833 Getting predictions from the endpoint\u001b[0m\n",
      "\u001b[34m2023-03-05 21:56:05,480 We assume a prediction above 0.500 indicates 1 and below or equal indicates 0.\u001b[0m\n",
      "\u001b[34m2023-03-05 21:56:05,481 Column fraud with data uniqueness fraction 0.0004988775255674732 is classifed as a CATEGORICAL column\u001b[0m\n",
      "\u001b[34m2023-03-05 21:56:05,484 Column customer_gender_female with data uniqueness fraction 0.0004988775255674732 is classifed as a CATEGORICAL column\u001b[0m\n",
      "\u001b[34m/usr/local/lib/python3.9/site-packages/smclarify/bias/report.py:469: FutureWarning: In a future version of pandas all arguments of DataFrame.drop except for the argument 'labels' will be keyword-only.\n",
      "  df = df.drop(facet_column.name, 1)\u001b[0m\n",
      "\u001b[34m2023-03-05 21:56:05,486 Column fraud with data uniqueness fraction 0.0004988775255674732 is classifed as a CATEGORICAL column\u001b[0m\n",
      "\u001b[34m2023-03-05 21:56:05,488 Column None with data uniqueness fraction 0.0004988775255674732 is classifed as a CATEGORICAL column\u001b[0m\n",
      "\u001b[34m2023-03-05 21:56:05,490 Calculated global analysis with predictor\u001b[0m\n",
      "\u001b[34m2023-03-05 21:56:05,491 Stop using endpoint: sm-clarify-fraud-detect-xgb-model-1678053123-5bf9\u001b[0m\n",
      "\u001b[34m2023-03-05 21:56:05,491 Deleting endpoint configuration with name: sm-clarify-config-1678053123-ee17\u001b[0m\n",
      "\u001b[34m2023-03-05 21:56:05,654 Deleting endpoint with name: sm-clarify-fraud-detect-xgb-model-1678053123-5bf9\u001b[0m\n",
      "\u001b[34m2023-03-05 21:56:05,782 Model endpoint delivered 3.03980 requests per second and a total of 2 requests over 1 seconds\u001b[0m\n",
      "\u001b[34m2023-03-05 21:56:05,782 =====================================\u001b[0m\n",
      "\u001b[34m2023-03-05 21:56:05,783 Calculating pre-training bias metrics\u001b[0m\n",
      "\u001b[34m2023-03-05 21:56:05,783 =====================================\u001b[0m\n",
      "\u001b[34m2023-03-05 21:56:05,783 Column fraud with data uniqueness fraction 0.0004988775255674732 is classifed as a CATEGORICAL column\u001b[0m\n",
      "\u001b[34m2023-03-05 21:56:05,785 Column customer_gender_female with data uniqueness fraction 0.0004988775255674732 is classifed as a CATEGORICAL column\u001b[0m\n",
      "\u001b[34m/usr/local/lib/python3.9/site-packages/smclarify/bias/report.py:469: FutureWarning: In a future version of pandas all arguments of DataFrame.drop except for the argument 'labels' will be keyword-only.\n",
      "  df = df.drop(facet_column.name, 1)\u001b[0m\n",
      "\u001b[34m2023-03-05 21:56:05,787 Column fraud with data uniqueness fraction 0.0004988775255674732 is classifed as a CATEGORICAL column\u001b[0m\n",
      "\u001b[34m2023-03-05 21:56:05,790 ======================================\u001b[0m\n",
      "\u001b[34m2023-03-05 21:56:05,790 Calculating bias statistics for report\u001b[0m\n",
      "\u001b[34m2023-03-05 21:56:05,790 ======================================\u001b[0m\n",
      "\u001b[34m2023-03-05 21:56:05,790 Column fraud with data uniqueness fraction 0.0004988775255674732 is classifed as a CATEGORICAL column\u001b[0m\n",
      "\u001b[34m2023-03-05 21:56:05,792 Column customer_gender_female with data uniqueness fraction 0.0004988775255674732 is classifed as a CATEGORICAL column\u001b[0m\n",
      "\u001b[34m/usr/local/lib/python3.9/site-packages/smclarify/bias/report.py:469: FutureWarning: In a future version of pandas all arguments of DataFrame.drop except for the argument 'labels' will be keyword-only.\n",
      "  df = df.drop(facet_column.name, 1)\u001b[0m\n",
      "\u001b[34m2023-03-05 21:56:05,794 Column fraud with data uniqueness fraction 0.0004988775255674732 is classifed as a CATEGORICAL column\u001b[0m\n",
      "\u001b[34m2023-03-05 21:56:05,795 Column None with data uniqueness fraction 0.0004988775255674732 is classifed as a CATEGORICAL column\u001b[0m\n",
      "\u001b[34m2023-03-05 21:56:05,799 Model performance computations failed.\u001b[0m\n",
      "\u001b[34mTraceback (most recent call last):\n",
      "  File \"/usr/local/lib/python3.9/site-packages/analyzer/bias/bias_stats_analyzer.py\", line 118, in generate_model_performance_report\n",
      "    metrics_result: Dict[str, Any] = bias.model_performance_report(\u001b[0m\n",
      "\u001b[34mAttributeError: module 'smclarify.bias' has no attribute 'model_performance_report'\u001b[0m\n",
      "\u001b[34m2023-03-05 21:56:05,800 Converting Pandas DataFrame to SparkDataFrame for computing report metadata\u001b[0m\n",
      "\u001b[34m----!21:56:07.794 [main] WARN  o.a.hadoop.util.NativeCodeLoader - Unable to load native-hadoop library for your platform... using builtin-java classes where applicable\u001b[0m\n",
      "\u001b[34m21:56:13.479 [Thread-4] WARN  o.a.spark.sql.catalyst.util.package - Truncated the string representation of a plan since it was too large. This behavior can be adjusted by setting 'spark.sql.debug.maxToStringFields'.\u001b[0m\n",
      "\u001b[34m#015[Stage 0:>                                                          (0 + 4) / 4]#015#015                                                                                #015#015[Stage 3:>                                                          (0 + 4) / 4]#015#015                                                                                #0152023-03-05 21:56:19,661 Calculated global analysis without predictor\u001b[0m\n",
      "\u001b[34m2023-03-05 21:56:19,662 Stop using endpoint: None\u001b[0m\n",
      "\u001b[34m2023-03-05 21:56:20,723 ['jupyter', 'nbconvert', '--to', 'html', '--output', '/opt/ml/processing/output/report.html', '/opt/ml/processing/output/report.ipynb', '--template', 'sagemaker-xai']\u001b[0m\n",
      "\u001b[34m[NbConvertApp] Converting notebook /opt/ml/processing/output/report.ipynb to html\u001b[0m\n",
      "\u001b[34m[NbConvertApp] Writing 680379 bytes to /opt/ml/processing/output/report.html\u001b[0m\n",
      "\u001b[34m2023-03-05 21:56:21,983 ['wkhtmltopdf', '-q', '--enable-local-file-access', '/opt/ml/processing/output/report.html', '/opt/ml/processing/output/report.pdf']\u001b[0m\n",
      "\u001b[34m2023-03-05 21:56:22,995 Collected analyses: \u001b[0m\n",
      "\u001b[34m{\n",
      "    \"version\": \"1.0\",\n",
      "    \"post_training_bias_metrics\": {\n",
      "        \"label\": \"fraud\",\n",
      "        \"facets\": {\n",
      "            \"customer_gender_female\": [\n",
      "                {\n",
      "                    \"value_or_threshold\": \"1\",\n",
      "                    \"metrics\": [\n",
      "                        {\n",
      "                            \"name\": \"DPPL\",\n",
      "                            \"description\": \"Difference in Positive Proportions in Predicted Labels (DPPL)\",\n",
      "                            \"value\": -0.00041399757168658624\n",
      "                        }\n",
      "                    ]\n",
      "                }\n",
      "            ]\n",
      "        },\n",
      "        \"label_value_or_threshold\": \"0\"\n",
      "    },\n",
      "    \"pre_training_bias_metrics\": {\n",
      "        \"label\": \"fraud\",\n",
      "        \"facets\": {\n",
      "            \"customer_gender_female\": [\n",
      "                {\n",
      "                    \"value_or_threshold\": \"1\",\n",
      "                    \"metrics\": [\n",
      "                        {\n",
      "                            \"name\": \"CI\",\n",
      "                            \"description\": \"Class Imbalance (CI)\",\n",
      "                            \"value\": 0.12846096283362435\n",
      "                        }\n",
      "                    ]\n",
      "                }\n",
      "            ]\n",
      "        },\n",
      "        \"label_value_or_threshold\": \"0\"\n",
      "    }\u001b[0m\n",
      "\u001b[34m}\u001b[0m\n",
      "\u001b[34m2023-03-05 21:56:22,996 exit_message: Completed: SageMaker XAI Analyzer ran successfully\u001b[0m\n",
      "\n"
     ]
    }
   ],
   "source": [
    "train_df = pd.read_csv(train_data_uri)\n",
    "train_df_cols = train_df.columns.to_list()\n",
    "\n",
    "clarify_processor = sagemaker.clarify.SageMakerClarifyProcessor(\n",
    "    role=sagemaker_role,\n",
    "    instance_count=clarify_instance_count,\n",
    "    instance_type=clarify_instance_type,\n",
    "    sagemaker_session=sess,\n",
    ")\n",
    "\n",
    "# Data config\n",
    "bias_data_config = sagemaker.clarify.DataConfig(\n",
    "    s3_data_input_path=train_data_uri,\n",
    "    s3_output_path=bias_report_output_uri,\n",
    "    label=\"fraud\",\n",
    "    headers=train_df_cols,\n",
    "    dataset_type=\"text/csv\",\n",
    ")\n",
    "\n",
    "# Model config\n",
    "model_config = sagemaker.clarify.ModelConfig(\n",
    "    model_name=xgb_model_name,\n",
    "    instance_type=train_instance_type,\n",
    "    instance_count=1,\n",
    "    accept_type=\"text/csv\",\n",
    ")\n",
    "\n",
    "# Model predictions config to get binary labels from probabilities\n",
    "predictions_config = sagemaker.clarify.ModelPredictedLabelConfig(probability_threshold=0.5)\n",
    "\n",
    "# Bias config\n",
    "bias_config = sagemaker.clarify.BiasConfig(\n",
    "    label_values_or_threshold=[0],\n",
    "    facet_name=\"customer_gender_female\",\n",
    "    facet_values_or_threshold=[1],\n",
    ")\n",
    "clarify_processor.run_bias(\n",
    "    data_config=bias_data_config,\n",
    "    bias_config=bias_config,\n",
    "    model_config=model_config,\n",
    "    model_predicted_label_config=predictions_config,\n",
    "    pre_training_methods=[\"CI\"],\n",
    "    post_training_methods=[\"DPPL\"]\n",
    "    )\n",
    "\n",
    "clarify_bias_job_name = clarify_processor.latest_job.name"
   ]
  },
  {
   "cell_type": "markdown",
   "id": "e10b92c5-2ddc-4197-9e17-ddc53466105b",
   "metadata": {},
   "source": [
    "### UI to Check:  📺\n",
    "    - Experiments -> Unassigned Runs / Processing Job UI to check logs \n",
    "    - Experiments -> Unassigned Runs-> Run-> Bias Reports"
   ]
  },
  {
   "cell_type": "markdown",
   "id": "9fefacaf-edd4-43be-a8a0-bf1e4a1e8996",
   "metadata": {},
   "source": [
    "#### We can download this report and read through the observations made by clarify"
   ]
  },
  {
   "cell_type": "code",
   "execution_count": 17,
   "id": "8ae9bb74-8b39-4a32-ba33-139267c4a024",
   "metadata": {},
   "outputs": [
    {
     "name": "stdout",
     "output_type": "stream",
     "text": [
      "download: s3://sagemaker-us-east-1-539179515961/fraud-detect-demo/clarify-output/bias/report.pdf to ./clarify_bias_output.pdf\n"
     ]
    }
   ],
   "source": [
    "# Copy bias report and view locally\n",
    "!aws s3 cp s3://{write_bucket}/{write_prefix}/clarify-output/bias/report.pdf ./clarify_bias_output.pdf"
   ]
  },
  {
   "cell_type": "markdown",
   "id": "673da6c6-4187-4578-89ae-11087424577a",
   "metadata": {},
   "source": [
    "#### Explainability Report\n",
    "\n",
    "[Note 1]: ETA: This code takes approximately 14 minutes to complete.\n",
    "\n",
    "[Note 2]: You can head over to Sagemaker Console -> Processing jobs to view the progress of the launched tuning jobs\n"
   ]
  },
  {
   "cell_type": "code",
   "execution_count": 18,
   "id": "e51724c2-91c7-4bd0-9803-bb779fc2119e",
   "metadata": {},
   "outputs": [
    {
     "name": "stderr",
     "output_type": "stream",
     "text": [
      "INFO:sagemaker.clarify:Analysis Config: {'dataset_type': 'text/csv', 'headers': ['fraud', 'num_vehicles_involved', 'num_injuries', 'num_witnesses', 'police_report_available', 'injury_claim', 'vehicle_claim', 'total_claim_amount', 'incident_month', 'incident_day', 'incident_dow', 'incident_hour', 'customer_age', 'months_as_customer', 'num_claims_past_year', 'num_insurers_past_5_years', 'policy_deductable', 'policy_annual_premium', 'policy_liability', 'customer_education', 'auto_year', 'driver_relationship_other', 'driver_relationship_child', 'driver_relationship_spouse', 'driver_relationship_na', 'driver_relationship_self', 'incident_type_collision', 'incident_type_break-in', 'incident_type_theft', 'collision_type_rear', 'collision_type_side', 'collision_type_na', 'collision_type_front', 'incident_severity_totaled', 'incident_severity_major', 'incident_severity_minor', 'authorities_contacted_fire', 'authorities_contacted_none', 'authorities_contacted_police', 'authorities_contacted_ambulance', 'policy_state_ca', 'policy_state_az', 'policy_state_nv', 'policy_state_id', 'policy_state_wa', 'policy_state_or', 'customer_gender_other', 'customer_gender_male', 'customer_gender_female'], 'label': 'fraud', 'predictor': {'model_name': 'fraud-detect-xgb-model', 'instance_type': 'ml.m4.xlarge', 'initial_instance_count': 1, 'accept_type': 'text/csv'}, 'methods': {'report': {'name': 'report', 'title': 'Analysis Report'}, 'shap': {'use_logit': False, 'save_local_shap_values': True, 'baseline': [[2.1085058618109254, 0.5584933898727862, 0.8685457720129708, 0.4220503866300823, 24257.121476677476, 17169.351123437555, 41426.472600115056, 6.726365677226241, 15.585682215016213, 2.645048640558743, 11.722624095784484, 44.15714642055375, 98.60688450985283, 0.08730356697430781, 1.4130705911698678, 751.0725866799701, 2925.3305063606886, 1.118233973559491, 2.531304564729359, 2015.7251184834124, 0.04065851833374907, 0.04489897730107259, 0.08505861810925418, 0.14342728860064854, 0.6859565976552756, 0.8565727113993514, 0.09553504614617112, 0.04789224245447742, 0.21900723372412073, 0.21052631578947367, 0.14342728860064854, 0.427039161885757, 0.23547019206784733, 0.34846595160888, 0.41606385632327264, 0.024195559990022448, 0.2432027937141432, 0.7031678722873534, 0.029433774008480917, 0.6303317535545023, 0.107009229234223, 0.04190571214766775, 0.027937141431778497, 0.12297331005238214, 0.06984285357944625, 0.0177101521576453, 0.4622100274382639, 0.43576951858318785]], 'num_samples': 500, 'agg_method': 'mean_abs'}}}\n",
      "INFO:sagemaker:Creating processing-job with name Clarify-Explainability-2023-03-05-22-03-22-100\n"
     ]
    },
    {
     "name": "stdout",
     "output_type": "stream",
     "text": [
      "........................................\u001b[34m2023-03-05 22:09:46,598 logging.conf not found when configuring logging, using default logging configuration.\u001b[0m\n",
      "\u001b[34m2023-03-05 22:09:46,599 Starting SageMaker Clarify Processing job\u001b[0m\n",
      "\u001b[34m2023-03-05 22:09:46,600 Analysis config path: /opt/ml/processing/input/config/analysis_config.json\u001b[0m\n",
      "\u001b[34m2023-03-05 22:09:46,600 Analysis result path: /opt/ml/processing/output\u001b[0m\n",
      "\u001b[34m2023-03-05 22:09:46,600 This host is algo-1.\u001b[0m\n",
      "\u001b[34m2023-03-05 22:09:46,600 This host is the leader.\u001b[0m\n",
      "\u001b[34m2023-03-05 22:09:46,600 Number of hosts in the cluster is 1.\u001b[0m\n",
      "\u001b[34m2023-03-05 22:09:46,838 Running Python / Pandas based analyzer.\u001b[0m\n",
      "\u001b[34m2023-03-05 22:09:46,838 Dataset type: text/csv uri: /opt/ml/processing/input/data\u001b[0m\n",
      "\u001b[34m2023-03-05 22:09:46,850 Loading dataset...\u001b[0m\n",
      "\u001b[34m/usr/local/lib/python3.9/site-packages/analyzer/data_loading/csv_data_loader.py:323: FutureWarning: The frame.append method is deprecated and will be removed from pandas in a future version. Use pandas.concat instead.\n",
      "  df = df.append(df_tmp, ignore_index=True)\u001b[0m\n",
      "\u001b[34m2023-03-05 22:09:46,877 Loaded dataset. Dataset info:\u001b[0m\n",
      "\u001b[34m<class 'pandas.core.frame.DataFrame'>\u001b[0m\n",
      "\u001b[34mRangeIndex: 4009 entries, 0 to 4008\u001b[0m\n",
      "\u001b[34mData columns (total 48 columns):\n",
      " #   Column                           Non-Null Count  Dtype  \u001b[0m\n",
      "\u001b[34m---  ------                           --------------  -----  \n",
      " 0   num_vehicles_involved            4009 non-null   int64  \n",
      " 1   num_injuries                     4009 non-null   int64  \n",
      " 2   num_witnesses                    4009 non-null   int64  \n",
      " 3   police_report_available          4009 non-null   int64  \n",
      " 4   injury_claim                     4009 non-null   int64  \n",
      " 5   vehicle_claim                    4009 non-null   float64\n",
      " 6   total_claim_amount               4009 non-null   float64\n",
      " 7   incident_month                   4009 non-null   int64  \n",
      " 8   incident_day                     4009 non-null   int64  \n",
      " 9   incident_dow                     4009 non-null   int64  \n",
      " 10  incident_hour                    4009 non-null   int64  \n",
      " 11  customer_age                     4009 non-null   int64  \n",
      " 12  months_as_customer               4009 non-null   int64  \n",
      " 13  num_claims_past_year             4009 non-null   int64  \n",
      " 14  num_insurers_past_5_years        4009 non-null   int64  \n",
      " 15  policy_deductable                4009 non-null   int64  \n",
      " 16  policy_annual_premium            4009 non-null   int64  \n",
      " 17  policy_liability                 4009 non-null   int64  \n",
      " 18  customer_education               4009 non-null   int64  \n",
      " 19  auto_year                        4009 non-null   int64  \n",
      " 20  driver_relationship_other        4009 non-null   int64  \n",
      " 21  driver_relationship_child        4009 non-null   int64  \n",
      " 22  driver_relationship_spouse       4009 non-null   int64  \n",
      " 23  driver_relationship_na           4009 non-null   int64  \n",
      " 24  driver_relationship_self         4009 non-null   int64  \n",
      " 25  incident_type_collision          4009 non-null   int64  \n",
      " 26  incident_type_break-in           4009 non-null   int64  \n",
      " 27  incident_type_theft              4009 non-null   int64  \n",
      " 28  collision_type_rear              4009 non-null   int64  \n",
      " 29  collision_type_side              4009 non-null   int64  \n",
      " 30  collision_type_na                4009 non-null   int64  \n",
      " 31  collision_type_front             4009 non-null   int64  \n",
      " 32  incident_severity_totaled        4009 non-null   int64  \n",
      " 33  incident_severity_major          4009 non-null   int64  \n",
      " 34  incident_severity_minor          4009 non-null   int64  \n",
      " 35  authorities_contacted_fire       4009 non-null   int64  \n",
      " 36  authorities_contacted_none       4009 non-null   int64  \n",
      " 37  authorities_contacted_police     4009 non-null   int64  \n",
      " 38  authorities_contacted_ambulance  4009 non-null   int64  \n",
      " 39  policy_state_ca                  4009 non-null   int64  \n",
      " 40  policy_state_az                  4009 non-null   int64  \n",
      " 41  policy_state_nv                  4009 non-null   int64  \n",
      " 42  policy_state_id                  4009 non-null   int64  \n",
      " 43  policy_state_wa                  4009 non-null   int64  \n",
      " 44  policy_state_or                  4009 non-null   int64  \n",
      " 45  customer_gender_other            4009 non-null   int64  \n",
      " 46  customer_gender_male             4009 non-null   int64  \n",
      " 47  customer_gender_female           4009 non-null   int64  \u001b[0m\n",
      "\u001b[34mdtypes: float64(2), int64(46)\u001b[0m\n",
      "\u001b[34mmemory usage: 1.5 MB\u001b[0m\n",
      "\u001b[34m2023-03-05 22:09:46,941 Spinning up shadow endpoint\u001b[0m\n",
      "\u001b[34m2023-03-05 22:09:46,941 Creating endpoint-config with name sm-clarify-config-1678054186-dd5e\u001b[0m\n",
      "\u001b[34m2023-03-05 22:09:47,433 Creating endpoint: 'sm-clarify-fraud-detect-xgb-model-1678054187-daa1'\u001b[0m\n",
      "\u001b[34m2023-03-05 22:09:47,997 Using endpoint name: sm-clarify-fraud-detect-xgb-model-1678054187-daa1\u001b[0m\n",
      "\u001b[34m2023-03-05 22:09:47,997 Waiting for endpoint ...\u001b[0m\n",
      "\u001b[34m2023-03-05 22:09:47,997 Checking endpoint status:\u001b[0m\n",
      "\u001b[34mLegend:\u001b[0m\n",
      "\u001b[34m(OutOfService: x, Creating: -, Updating: -, InService: !, RollingBack: <, Deleting: o, Failed: *)\u001b[0m\n",
      "\u001b[34m2023-03-05 22:13:48,714 Endpoint is in service after 241 seconds\u001b[0m\n",
      "\u001b[34m2023-03-05 22:13:48,715 Endpoint ready.\u001b[0m\n",
      "\u001b[34m2023-03-05 22:13:48,718 SHAP n_samples 500\u001b[0m\n",
      "\u001b[34m2023-03-05 22:13:48,838 =====================================================\u001b[0m\n",
      "\u001b[34m2023-03-05 22:13:48,838 Shap analyzer: explaining 4009 rows, 48 columns...\u001b[0m\n",
      "\u001b[34m2023-03-05 22:13:48,838 =====================================================\u001b[0m\n",
      "\u001b[34m  0% (0 of 4009) |                       | Elapsed Time: 0:00:00 ETA:  --:--:--\u001b[0m\n",
      "\u001b[34m  4% (166 of 4009) |                     | Elapsed Time: 0:00:30 ETA:   0:11:34\u001b[0m\n",
      "\u001b[34m  8% (336 of 4009) |#                    | Elapsed Time: 0:01:00 ETA:   0:10:50\u001b[0m\n",
      "\u001b[34m 12% (507 of 4009) |##                   | Elapsed Time: 0:01:30 ETA:   0:10:17\u001b[0m\n",
      "\u001b[34m 16% (678 of 4009) |###                  | Elapsed Time: 0:02:00 ETA:   0:09:46\u001b[0m\n",
      "\u001b[34m 21% (849 of 4009) |####                 | Elapsed Time: 0:02:30 ETA:   0:09:16\u001b[0m\n",
      "\u001b[34m 25% (1022 of 4009) |#####               | Elapsed Time: 0:03:00 ETA:   0:08:40\u001b[0m\n",
      "\u001b[34m 29% (1194 of 4009) |#####               | Elapsed Time: 0:03:30 ETA:   0:08:12\u001b[0m\n",
      "\u001b[34m 34% (1366 of 4009) |######              | Elapsed Time: 0:04:00 ETA:   0:07:43\u001b[0m\n",
      "\u001b[34m 38% (1538 of 4009) |#######             | Elapsed Time: 0:04:31 ETA:   0:07:13\u001b[0m\n",
      "\u001b[34m 42% (1710 of 4009) |########            | Elapsed Time: 0:05:01 ETA:   0:06:41\u001b[0m\n",
      "\u001b[34m 46% (1882 of 4009) |#########           | Elapsed Time: 0:05:31 ETA:   0:06:12\u001b[0m\n",
      "\u001b[34m 51% (2054 of 4009) |##########          | Elapsed Time: 0:06:01 ETA:   0:05:42\u001b[0m\n",
      "\u001b[34m 55% (2226 of 4009) |###########         | Elapsed Time: 0:06:31 ETA:   0:05:12\u001b[0m\n",
      "\u001b[34m 59% (2399 of 4009) |###########         | Elapsed Time: 0:07:01 ETA:   0:04:40\u001b[0m\n",
      "\u001b[34m 64% (2570 of 4009) |############        | Elapsed Time: 0:07:31 ETA:   0:04:13\u001b[0m\n",
      "\u001b[34m 68% (2742 of 4009) |#############       | Elapsed Time: 0:08:01 ETA:   0:03:41\u001b[0m\n",
      "\u001b[34m 72% (2914 of 4009) |##############      | Elapsed Time: 0:08:31 ETA:   0:03:11\u001b[0m\n",
      "\u001b[34m 76% (3086 of 4009) |###############     | Elapsed Time: 0:09:01 ETA:   0:02:41\u001b[0m\n",
      "\u001b[34m 81% (3258 of 4009) |################    | Elapsed Time: 0:09:32 ETA:   0:02:11\u001b[0m\n",
      "\u001b[34m 85% (3431 of 4009) |#################   | Elapsed Time: 0:10:02 ETA:   0:01:40\u001b[0m\n",
      "\u001b[34m 89% (3603 of 4009) |#################   | Elapsed Time: 0:10:32 ETA:   0:01:11\u001b[0m\n",
      "\u001b[34m 94% (3775 of 4009) |##################  | Elapsed Time: 0:11:02 ETA:   0:00:40\u001b[0m\n",
      "\u001b[34m 98% (3946 of 4009) |################### | Elapsed Time: 0:11:32 ETA:   0:00:11\u001b[0m\n",
      "\u001b[34m100% (4009 of 4009) |####################| Elapsed Time: 0:11:43 Time:  0:11:43\u001b[0m\n",
      "\u001b[34m2023-03-05 22:25:32,304 getting explanations took 703.47 seconds.\u001b[0m\n",
      "\u001b[34m2023-03-05 22:25:32,305 ===================================================\u001b[0m\n",
      "\u001b[34m2023-03-05 22:25:32,305 Falling back to generic labels: label0, label1, ...\u001b[0m\n",
      "\u001b[34m2023-03-05 22:25:32,936 converting explanations to tabular took 0.63 seconds.\u001b[0m\n",
      "\u001b[34m2023-03-05 22:25:32,937 ===================================================\u001b[0m\n",
      "\u001b[34m2023-03-05 22:25:32,940 Wrote baseline used to compute explanations to: /opt/ml/processing/output/explanations_shap/baseline.csv\u001b[0m\n",
      "\u001b[34m2023-03-05 22:25:33,247 Wrote 4009 local explanations to: /opt/ml/processing/output/explanations_shap/out.csv\u001b[0m\n",
      "\u001b[34m2023-03-05 22:25:33,247 writing local explanations took 0.31 seconds.\u001b[0m\n",
      "\u001b[34m2023-03-05 22:25:33,247 ===================================================\u001b[0m\n",
      "\u001b[34m/usr/local/lib/python3.9/site-packages/numpy/core/fromnumeric.py:3430: FutureWarning: In a future version, DataFrame.mean(axis=None) will return a scalar mean over the entire DataFrame. To retain the old behavior, use 'frame.mean(axis=0)' or just 'frame.mean()'\n",
      "  return mean(axis=axis, dtype=dtype, out=out, **kwargs)\u001b[0m\n",
      "\u001b[34m2023-03-05 22:25:33,251 aggregating local explanations took 0.00 seconds.\u001b[0m\n",
      "\u001b[34m2023-03-05 22:25:33,251 ===================================================\u001b[0m\n",
      "\u001b[34m2023-03-05 22:25:33,251 Shap analysis finished.\u001b[0m\n",
      "\u001b[34m2023-03-05 22:25:33,251 Calculated global analysis with predictor\u001b[0m\n",
      "\u001b[34m2023-03-05 22:25:33,251 Stop using endpoint: sm-clarify-fraud-detect-xgb-model-1678054187-daa1\u001b[0m\n",
      "\u001b[34m2023-03-05 22:25:33,252 Deleting endpoint configuration with name: sm-clarify-config-1678054186-dd5e\u001b[0m\n",
      "\u001b[34m2023-03-05 22:25:33,505 Deleting endpoint with name: sm-clarify-fraud-detect-xgb-model-1678054187-daa1\u001b[0m\n",
      "\u001b[34m2023-03-05 22:25:33,708 Model endpoint delivered 5.69310 requests per second and a total of 4011 requests over 705 seconds\u001b[0m\n",
      "\u001b[34m2023-03-05 22:25:33,708 Calculated global analysis without predictor\u001b[0m\n",
      "\u001b[34m2023-03-05 22:25:39,851 Stop using endpoint: None\u001b[0m\n",
      "\n",
      "\u001b[34m2023-03-05 22:26:30,379 ['jupyter', 'nbconvert', '--to', 'html', '--output', '/opt/ml/processing/output/report.html', '/opt/ml/processing/output/report.ipynb', '--template', 'sagemaker-xai']\u001b[0m\n",
      "\u001b[34m[NbConvertApp] Converting notebook /opt/ml/processing/output/report.ipynb to html\u001b[0m\n",
      "\u001b[34m[NbConvertApp] Writing 510787 bytes to /opt/ml/processing/output/report.html\u001b[0m\n",
      "\u001b[34m2023-03-05 22:26:31,569 ['wkhtmltopdf', '-q', '--enable-local-file-access', '/opt/ml/processing/output/report.html', '/opt/ml/processing/output/report.pdf']\u001b[0m\n",
      "\u001b[34m2023-03-05 22:26:32,397 Collected analyses: \u001b[0m\n",
      "\u001b[34m{\n",
      "    \"version\": \"1.0\",\n",
      "    \"explanations\": {\n",
      "        \"kernel_shap\": {\n",
      "            \"label0\": {\n",
      "                \"global_shap_values\": {\n",
      "                    \"num_vehicles_involved\": 0.0057808325819154495,\n",
      "                    \"num_injuries\": 0.005069119947109875,\n",
      "                    \"num_witnesses\": 0.0019952374197486516,\n",
      "                    \"police_report_available\": 0.0005895303377136494,\n",
      "                    \"injury_claim\": 0.0060946629492056766,\n",
      "                    \"vehicle_claim\": 0.0010496732677257445,\n",
      "                    \"total_claim_amount\": 0.0020555756049251256,\n",
      "                    \"incident_month\": 0.0034944930307695674,\n",
      "                    \"incident_day\": 0.0013644615443523223,\n",
      "                    \"incident_dow\": 0.0005781248525583022,\n",
      "                    \"incident_hour\": 0.0011730071666451395,\n",
      "                    \"customer_age\": 0.0009341143654692222,\n",
      "                    \"months_as_customer\": 0.002314707204522804,\n",
      "                    \"num_claims_past_year\": 0.0022540409301973876,\n",
      "                    \"num_insurers_past_5_years\": 0.0035840722997286926,\n",
      "                    \"policy_deductable\": 0.0005519308250439068,\n",
      "                    \"policy_annual_premium\": 0.0008458401726178805,\n",
      "                    \"policy_liability\": 0.0017250973499398322,\n",
      "                    \"customer_education\": 0.0010658822615393431,\n",
      "                    \"auto_year\": 0.0005450967163202312,\n",
      "                    \"driver_relationship_other\": 0.0005513427861872456,\n",
      "                    \"driver_relationship_child\": 0.0006126017650450312,\n",
      "                    \"driver_relationship_spouse\": 0.0005962658431332651,\n",
      "                    \"driver_relationship_na\": 0.0006130706751437483,\n",
      "                    \"driver_relationship_self\": 0.0005791829219421238,\n",
      "                    \"incident_type_collision\": 0.0005900668925877146,\n",
      "                    \"incident_type_break-in\": 0.0005783745763016814,\n",
      "                    \"incident_type_theft\": 0.0005768048278939704,\n",
      "                    \"collision_type_rear\": 0.0005655531787691722,\n",
      "                    \"collision_type_side\": 0.0006403752246601461,\n",
      "                    \"collision_type_na\": 0.0005966361483986467,\n",
      "                    \"collision_type_front\": 0.0006060168010603066,\n",
      "                    \"incident_severity_totaled\": 0.0006036043455658764,\n",
      "                    \"incident_severity_major\": 0.0005790657910424961,\n",
      "                    \"incident_severity_minor\": 0.00057375298274587,\n",
      "                    \"authorities_contacted_fire\": 0.0005703238312170827,\n",
      "                    \"authorities_contacted_none\": 0.0007325994807353752,\n",
      "                    \"authorities_contacted_police\": 0.0005923406435479437,\n",
      "                    \"authorities_contacted_ambulance\": 0.000554558010181618,\n",
      "                    \"policy_state_ca\": 0.0008525874558093141,\n",
      "                    \"policy_state_az\": 0.0005480104233539447,\n",
      "                    \"policy_state_nv\": 0.0005804349527382291,\n",
      "                    \"policy_state_id\": 0.0005637517384668519,\n",
      "                    \"policy_state_wa\": 0.0005602023661023501,\n",
      "                    \"policy_state_or\": 0.0005917794516426306,\n",
      "                    \"customer_gender_other\": 0.0005946193701828601,\n",
      "                    \"customer_gender_male\": 0.016257890170779436,\n",
      "                    \"customer_gender_female\": 0.0005947187826106551\n",
      "                },\n",
      "                \"expected_value\": 0.0051173134706914425\n",
      "            }\n",
      "        }\n",
      "    }\u001b[0m\n",
      "\u001b[34m}\u001b[0m\n",
      "\u001b[34m2023-03-05 22:26:32,398 exit_message: Completed: SageMaker XAI Analyzer ran successfully\u001b[0m\n",
      "\u001b[34m----!\u001b[0m\n"
     ]
    }
   ],
   "source": [
    "explainability_data_config = sagemaker.clarify.DataConfig(\n",
    "    s3_data_input_path=train_data_uri,\n",
    "    s3_output_path=explainability_report_output_uri,\n",
    "    label=\"fraud\",\n",
    "    headers=train_df_cols,\n",
    "    dataset_type=\"text/csv\",\n",
    ")\n",
    "\n",
    "# Use mean of train dataset as baseline data point\n",
    "shap_baseline = [list(train_df.drop([\"fraud\"], axis=1).mean())]\n",
    "\n",
    "shap_config = sagemaker.clarify.SHAPConfig(\n",
    "    baseline=shap_baseline,\n",
    "    num_samples=500,\n",
    "    agg_method=\"mean_abs\",\n",
    "    save_local_shap_values=True,\n",
    ")\n",
    "\n",
    "clarify_processor.run_explainability(\n",
    "    data_config=explainability_data_config,\n",
    "    model_config=model_config,\n",
    "    explainability_config=shap_config\n",
    ")"
   ]
  },
  {
   "cell_type": "markdown",
   "id": "3398154b-3bdf-4768-85f0-b0ac01d6812b",
   "metadata": {},
   "source": [
    "### UI to Check:  📺\n",
    "    - Experiments -> Unassigned Runs / Processing Job UI to check logs \n",
    "    - Experiments -> Unassigned Runs-> Run-> Explainability"
   ]
  },
  {
   "cell_type": "markdown",
   "id": "a6374c14-55ce-4aa7-a0ba-ff2ff3a2c137",
   "metadata": {},
   "source": [
    "### Download explainability report"
   ]
  },
  {
   "cell_type": "code",
   "execution_count": 20,
   "id": "6524c777-b7a9-4ba3-a690-bf72d006e3ad",
   "metadata": {},
   "outputs": [
    {
     "name": "stdout",
     "output_type": "stream",
     "text": [
      "download: s3://sagemaker-us-east-1-539179515961/fraud-detect-demo/clarify-output/explainability/report.pdf to ./clarify_explainability_output.pdf\n"
     ]
    }
   ],
   "source": [
    "# Copy explainability report and view\n",
    "!aws s3 cp s3://{write_bucket}/{write_prefix}/clarify-output/explainability/report.pdf ./clarify_explainability_output.pdf"
   ]
  },
  {
   "cell_type": "code",
   "execution_count": 21,
   "id": "6e98dc51-a66a-4942-9129-040fc8ed591d",
   "metadata": {},
   "outputs": [
    {
     "name": "stdout",
     "output_type": "stream",
     "text": [
      "Example number: 100\n"
     ]
    },
    {
     "data": {
      "image/png": "[encoded data removed]",
      "text/plain": [
       "<Figure size 2000x800 with 1 Axes>"
      ]
     },
     "metadata": {},
     "output_type": "display_data"
    }
   ],
   "source": [
    "import matplotlib.pyplot as plt\n",
    "import matplotlib\n",
    "%matplotlib inline\n",
    "local_explanations_out = pd.read_csv(explainability_report_output_uri + \"/explanations_shap/out.csv\")\n",
    "feature_names = [str.replace(c, \"_label0\", \"\") for c in \n",
    "local_explanations_out.columns.to_series()]\n",
    "local_explanations_out.columns = feature_names\n",
    "\n",
    "selected_example = 100\n",
    "print(\"Example number:\", selected_example)\n",
    "\n",
    "local_explanations_out.iloc[selected_example].plot(\n",
    "    kind=\"bar\", title=\"Local explanation for the example number \" + str(selected_example), rot=60, figsize=(20, 8)\n",
    ");"
   ]
  },
  {
   "cell_type": "markdown",
   "id": "73989cd5-8bff-4ee4-ad24-5f3af3309ab6",
   "metadata": {
    "tags": []
   },
   "source": [
    "# Step 5: Deploy the model to a real-time inference endpoint"
   ]
  },
  {
   "cell_type": "markdown",
   "id": "befc67b6-3c97-4212-be4c-6e902a57e84a",
   "metadata": {},
   "source": [
    "#### [Note]: ETA - 5 mins.⬇️"
   ]
  },
  {
   "cell_type": "code",
   "execution_count": 22,
   "id": "86c81f70-8178-449a-8713-c01b642278d8",
   "metadata": {},
   "outputs": [
    {
     "name": "stderr",
     "output_type": "stream",
     "text": [
      "INFO:sagemaker.image_uris:Ignoring unnecessary instance type: None.\n",
      "INFO:sagemaker:Creating model with name: xgb-fraud-model-dev\n",
      "WARNING:sagemaker:Using already existing model: xgb-fraud-model-dev\n",
      "INFO:sagemaker:Creating endpoint-config with name xgb-fraud-model-dev-2023-03-05-22-33-49-967\n",
      "INFO:sagemaker:Creating endpoint with name xgb-fraud-model-dev-2023-03-05-22-33-49-967\n"
     ]
    },
    {
     "name": "stdout",
     "output_type": "stream",
     "text": [
      "-------!\n",
      "Model deployed at endpoint : xgb-fraud-model-dev-2023-03-05-22-33-49-967\n"
     ]
    }
   ],
   "source": [
    "best_train_job_name = tuner.best_training_job()\n",
    "\n",
    "model_path = estimator_output_uri + '/' + best_train_job_name + '/output/model.tar.gz'\n",
    "training_image = retrieve(framework=\"xgboost\", region=region, version=\"1.3-1\")\n",
    "create_model_config = {\"model_data\":model_path,\n",
    "                       \"role\":sagemaker_role,\n",
    "                       \"image_uri\":training_image,\n",
    "                       \"name\":endpoint_name_prefix,\n",
    "                       \"predictor_cls\":sagemaker.predictor.Predictor\n",
    "                       }\n",
    "# Create a SageMaker model\n",
    "model = sagemaker.model.Model(**create_model_config)\n",
    "\n",
    "# Deploy the best model and get access to a SageMaker Predictor\n",
    "predictor = model.deploy(initial_instance_count=predictor_instance_count, \n",
    "                         instance_type=predictor_instance_type,\n",
    "                         serializer=CSVSerializer(),\n",
    "                         deserializer=CSVDeserializer())\n",
    "print(f\"\\nModel deployed at endpoint : {model.endpoint_name}\")\n"
   ]
  },
  {
   "cell_type": "code",
   "execution_count": 26,
   "id": "523f076b-ebe4-45f6-80b5-a17afc4b86f9",
   "metadata": {},
   "outputs": [
    {
     "name": "stdout",
     "output_type": "stream",
     "text": [
      "Model predicted score : 0.116, True label : 0\n"
     ]
    }
   ],
   "source": [
    "# Sample test data\n",
    "test_df = pd.read_csv(test_data_uri)\n",
    "payload = test_df.drop([\"fraud\"], axis=1).iloc[10].to_list()\n",
    "print(f\"Model predicted score : {float(predictor.predict(payload)[0][0]):.3f}, True label : {test_df['fraud'].iloc[10]}\")"
   ]
  }
 ],
 "metadata": {
  "availableInstances": [
   {
    "_defaultOrder": 0,
    "_isFastLaunch": true,
    "category": "General purpose",
    "gpuNum": 0,
    "memoryGiB": 4,
    "name": "ml.t3.medium",
    "vcpuNum": 2
   },
   {
    "_defaultOrder": 1,
    "_isFastLaunch": false,
    "category": "General purpose",
    "gpuNum": 0,
    "memoryGiB": 8,
    "name": "ml.t3.large",
    "vcpuNum": 2
   },
   {
    "_defaultOrder": 2,
    "_isFastLaunch": false,
    "category": "General purpose",
    "gpuNum": 0,
    "memoryGiB": 16,
    "name": "ml.t3.xlarge",
    "vcpuNum": 4
   },
   {
    "_defaultOrder": 3,
    "_isFastLaunch": false,
    "category": "General purpose",
    "gpuNum": 0,
    "memoryGiB": 32,
    "name": "ml.t3.2xlarge",
    "vcpuNum": 8
   },
   {
    "_defaultOrder": 4,
    "_isFastLaunch": true,
    "category": "General purpose",
    "gpuNum": 0,
    "memoryGiB": 8,
    "name": "ml.m5.large",
    "vcpuNum": 2
   },
   {
    "_defaultOrder": 5,
    "_isFastLaunch": false,
    "category": "General purpose",
    "gpuNum": 0,
    "memoryGiB": 16,
    "name": "ml.m5.xlarge",
    "vcpuNum": 4
   },
   {
    "_defaultOrder": 6,
    "_isFastLaunch": false,
    "category": "General purpose",
    "gpuNum": 0,
    "memoryGiB": 32,
    "name": "ml.m5.2xlarge",
    "vcpuNum": 8
   },
   {
    "_defaultOrder": 7,
    "_isFastLaunch": false,
    "category": "General purpose",
    "gpuNum": 0,
    "memoryGiB": 64,
    "name": "ml.m5.4xlarge",
    "vcpuNum": 16
   },
   {
    "_defaultOrder": 8,
    "_isFastLaunch": false,
    "category": "General purpose",
    "gpuNum": 0,
    "memoryGiB": 128,
    "name": "ml.m5.8xlarge",
    "vcpuNum": 32
   },
   {
    "_defaultOrder": 9,
    "_isFastLaunch": false,
    "category": "General purpose",
    "gpuNum": 0,
    "memoryGiB": 192,
    "name": "ml.m5.12xlarge",
    "vcpuNum": 48
   },
   {
    "_defaultOrder": 10,
    "_isFastLaunch": false,
    "category": "General purpose",
    "gpuNum": 0,
    "memoryGiB": 256,
    "name": "ml.m5.16xlarge",
    "vcpuNum": 64
   },
   {
    "_defaultOrder": 11,
    "_isFastLaunch": false,
    "category": "General purpose",
    "gpuNum": 0,
    "memoryGiB": 384,
    "name": "ml.m5.24xlarge",
    "vcpuNum": 96
   },
   {
    "_defaultOrder": 12,
    "_isFastLaunch": false,
    "category": "General purpose",
    "gpuNum": 0,
    "memoryGiB": 8,
    "name": "ml.m5d.large",
    "vcpuNum": 2
   },
   {
    "_defaultOrder": 13,
    "_isFastLaunch": false,
    "category": "General purpose",
    "gpuNum": 0,
    "memoryGiB": 16,
    "name": "ml.m5d.xlarge",
    "vcpuNum": 4
   },
   {
    "_defaultOrder": 14,
    "_isFastLaunch": false,
    "category": "General purpose",
    "gpuNum": 0,
    "memoryGiB": 32,
    "name": "ml.m5d.2xlarge",
    "vcpuNum": 8
   },
   {
    "_defaultOrder": 15,
    "_isFastLaunch": false,
    "category": "General purpose",
    "gpuNum": 0,
    "memoryGiB": 64,
    "name": "ml.m5d.4xlarge",
    "vcpuNum": 16
   },
   {
    "_defaultOrder": 16,
    "_isFastLaunch": false,
    "category": "General purpose",
    "gpuNum": 0,
    "memoryGiB": 128,
    "name": "ml.m5d.8xlarge",
    "vcpuNum": 32
   },
   {
    "_defaultOrder": 17,
    "_isFastLaunch": false,
    "category": "General purpose",
    "gpuNum": 0,
    "memoryGiB": 192,
    "name": "ml.m5d.12xlarge",
    "vcpuNum": 48
   },
   {
    "_defaultOrder": 18,
    "_isFastLaunch": false,
    "category": "General purpose",
    "gpuNum": 0,
    "memoryGiB": 256,
    "name": "ml.m5d.16xlarge",
    "vcpuNum": 64
   },
   {
    "_defaultOrder": 19,
    "_isFastLaunch": false,
    "category": "General purpose",
    "gpuNum": 0,
    "memoryGiB": 384,
    "name": "ml.m5d.24xlarge",
    "vcpuNum": 96
   },
   {
    "_defaultOrder": 20,
    "_isFastLaunch": true,
    "category": "Compute optimized",
    "gpuNum": 0,
    "memoryGiB": 4,
    "name": "ml.c5.large",
    "vcpuNum": 2
   },
   {
    "_defaultOrder": 21,
    "_isFastLaunch": false,
    "category": "Compute optimized",
    "gpuNum": 0,
    "memoryGiB": 8,
    "name": "ml.c5.xlarge",
    "vcpuNum": 4
   },
   {
    "_defaultOrder": 22,
    "_isFastLaunch": false,
    "category": "Compute optimized",
    "gpuNum": 0,
    "memoryGiB": 16,
    "name": "ml.c5.2xlarge",
    "vcpuNum": 8
   },
   {
    "_defaultOrder": 23,
    "_isFastLaunch": false,
    "category": "Compute optimized",
    "gpuNum": 0,
    "memoryGiB": 32,
    "name": "ml.c5.4xlarge",
    "vcpuNum": 16
   },
   {
    "_defaultOrder": 24,
    "_isFastLaunch": false,
    "category": "Compute optimized",
    "gpuNum": 0,
    "memoryGiB": 72,
    "name": "ml.c5.9xlarge",
    "vcpuNum": 36
   },
   {
    "_defaultOrder": 25,
    "_isFastLaunch": false,
    "category": "Compute optimized",
    "gpuNum": 0,
    "memoryGiB": 96,
    "name": "ml.c5.12xlarge",
    "vcpuNum": 48
   },
   {
    "_defaultOrder": 26,
    "_isFastLaunch": false,
    "category": "Compute optimized",
    "gpuNum": 0,
    "memoryGiB": 144,
    "name": "ml.c5.18xlarge",
    "vcpuNum": 72
   },
   {
    "_defaultOrder": 27,
    "_isFastLaunch": false,
    "category": "Compute optimized",
    "gpuNum": 0,
    "memoryGiB": 192,
    "name": "ml.c5.24xlarge",
    "vcpuNum": 96
   },
   {
    "_defaultOrder": 28,
    "_isFastLaunch": true,
    "category": "Accelerated computing",
    "gpuNum": 1,
    "memoryGiB": 16,
    "name": "ml.g4dn.xlarge",
    "vcpuNum": 4
   },
   {
    "_defaultOrder": 29,
    "_isFastLaunch": false,
    "category": "Accelerated computing",
    "gpuNum": 1,
    "memoryGiB": 32,
    "name": "ml.g4dn.2xlarge",
    "vcpuNum": 8
   },
   {
    "_defaultOrder": 30,
    "_isFastLaunch": false,
    "category": "Accelerated computing",
    "gpuNum": 1,
    "memoryGiB": 64,
    "name": "ml.g4dn.4xlarge",
    "vcpuNum": 16
   },
   {
    "_defaultOrder": 31,
    "_isFastLaunch": false,
    "category": "Accelerated computing",
    "gpuNum": 1,
    "memoryGiB": 128,
    "name": "ml.g4dn.8xlarge",
    "vcpuNum": 32
   },
   {
    "_defaultOrder": 32,
    "_isFastLaunch": false,
    "category": "Accelerated computing",
    "gpuNum": 4,
    "memoryGiB": 192,
    "name": "ml.g4dn.12xlarge",
    "vcpuNum": 48
   },
   {
    "_defaultOrder": 33,
    "_isFastLaunch": false,
    "category": "Accelerated computing",
    "gpuNum": 1,
    "memoryGiB": 256,
    "name": "ml.g4dn.16xlarge",
    "vcpuNum": 64
   },
   {
    "_defaultOrder": 34,
    "_isFastLaunch": false,
    "category": "Accelerated computing",
    "gpuNum": 1,
    "memoryGiB": 61,
    "name": "ml.p3.2xlarge",
    "vcpuNum": 8
   },
   {
    "_defaultOrder": 35,
    "_isFastLaunch": false,
    "category": "Accelerated computing",
    "gpuNum": 4,
    "memoryGiB": 244,
    "name": "ml.p3.8xlarge",
    "vcpuNum": 32
   },
   {
    "_defaultOrder": 36,
    "_isFastLaunch": false,
    "category": "Accelerated computing",
    "gpuNum": 8,
    "memoryGiB": 488,
    "name": "ml.p3.16xlarge",
    "vcpuNum": 64
   },
   {
    "_defaultOrder": 37,
    "_isFastLaunch": false,
    "category": "Accelerated computing",
    "gpuNum": 8,
    "memoryGiB": 768,
    "name": "ml.p3dn.24xlarge",
    "vcpuNum": 96
   },
   {
    "_defaultOrder": 38,
    "_isFastLaunch": false,
    "category": "Memory Optimized",
    "gpuNum": 0,
    "memoryGiB": 16,
    "name": "ml.r5.large",
    "vcpuNum": 2
   },
   {
    "_defaultOrder": 39,
    "_isFastLaunch": false,
    "category": "Memory Optimized",
    "gpuNum": 0,
    "memoryGiB": 32,
    "name": "ml.r5.xlarge",
    "vcpuNum": 4
   },
   {
    "_defaultOrder": 40,
    "_isFastLaunch": false,
    "category": "Memory Optimized",
    "gpuNum": 0,
    "memoryGiB": 64,
    "name": "ml.r5.2xlarge",
    "vcpuNum": 8
   },
   {
    "_defaultOrder": 41,
    "_isFastLaunch": false,
    "category": "Memory Optimized",
    "gpuNum": 0,
    "memoryGiB": 128,
    "name": "ml.r5.4xlarge",
    "vcpuNum": 16
   },
   {
    "_defaultOrder": 42,
    "_isFastLaunch": false,
    "category": "Memory Optimized",
    "gpuNum": 0,
    "memoryGiB": 256,
    "name": "ml.r5.8xlarge",
    "vcpuNum": 32
   },
   {
    "_defaultOrder": 43,
    "_isFastLaunch": false,
    "category": "Memory Optimized",
    "gpuNum": 0,
    "memoryGiB": 384,
    "name": "ml.r5.12xlarge",
    "vcpuNum": 48
   },
   {
    "_defaultOrder": 44,
    "_isFastLaunch": false,
    "category": "Memory Optimized",
    "gpuNum": 0,
    "memoryGiB": 512,
    "name": "ml.r5.16xlarge",
    "vcpuNum": 64
   },
   {
    "_defaultOrder": 45,
    "_isFastLaunch": false,
    "category": "Memory Optimized",
    "gpuNum": 0,
    "memoryGiB": 768,
    "name": "ml.r5.24xlarge",
    "vcpuNum": 96
   },
   {
    "_defaultOrder": 46,
    "_isFastLaunch": false,
    "category": "Accelerated computing",
    "gpuNum": 1,
    "memoryGiB": 16,
    "name": "ml.g5.xlarge",
    "vcpuNum": 4
   },
   {
    "_defaultOrder": 47,
    "_isFastLaunch": false,
    "category": "Accelerated computing",
    "gpuNum": 1,
    "memoryGiB": 32,
    "name": "ml.g5.2xlarge",
    "vcpuNum": 8
   },
   {
    "_defaultOrder": 48,
    "_isFastLaunch": false,
    "category": "Accelerated computing",
    "gpuNum": 1,
    "memoryGiB": 64,
    "name": "ml.g5.4xlarge",
    "vcpuNum": 16
   },
   {
    "_defaultOrder": 49,
    "_isFastLaunch": false,
    "category": "Accelerated computing",
    "gpuNum": 1,
    "memoryGiB": 128,
    "name": "ml.g5.8xlarge",
    "vcpuNum": 32
   },
   {
    "_defaultOrder": 50,
    "_isFastLaunch": false,
    "category": "Accelerated computing",
    "gpuNum": 1,
    "memoryGiB": 256,
    "name": "ml.g5.16xlarge",
    "vcpuNum": 64
   },
   {
    "_defaultOrder": 51,
    "_isFastLaunch": false,
    "category": "Accelerated computing",
    "gpuNum": 4,
    "memoryGiB": 192,
    "name": "ml.g5.12xlarge",
    "vcpuNum": 48
   },
   {
    "_defaultOrder": 52,
    "_isFastLaunch": false,
    "category": "Accelerated computing",
    "gpuNum": 4,
    "memoryGiB": 384,
    "name": "ml.g5.24xlarge",
    "vcpuNum": 96
   },
   {
    "_defaultOrder": 53,
    "_isFastLaunch": false,
    "category": "Accelerated computing",
    "gpuNum": 8,
    "memoryGiB": 768,
    "name": "ml.g5.48xlarge",
    "vcpuNum": 192
   }
  ],
  "instance_type": "ml.t3.medium",
  "kernelspec": {
   "display_name": "Python 3 (Data Science)",
   "language": "python",
   "name": "python3__SAGEMAKER_INTERNAL__arn:aws:sagemaker:us-east-1:081325390199:image/datascience-1.0"
  },
  "language_info": {
   "codemirror_mode": {
    "name": "ipython",
    "version": 3
   },
   "file_extension": ".py",
   "mimetype": "text/x-python",
   "name": "python",
   "nbconvert_exporter": "python",
   "pygments_lexer": "ipython3",
   "version": "3.7.10"
  }
 },
 "nbformat": 4,
 "nbformat_minor": 5
}
